{
  "nbformat": 4,
  "nbformat_minor": 0,
  "metadata": {
    "colab": {
      "provenance": [],
      "authorship_tag": "ABX9TyMTSSAKEaxLPWdtjMaIoNGy",
      "include_colab_link": true
    },
    "kernelspec": {
      "name": "python3",
      "display_name": "Python 3"
    },
    "language_info": {
      "name": "python"
    }
  },
  "cells": [
    {
      "cell_type": "markdown",
      "metadata": {
        "id": "view-in-github",
        "colab_type": "text"
      },
      "source": [
        "<a href=\"https://colab.research.google.com/github/santanaxabraham-byte/Situaciones_Agro_S_1/blob/main/Situaciones_Agro_S_1.ipynb\" target=\"_parent\"><img src=\"https://colab.research.google.com/assets/colab-badge.svg\" alt=\"Open In Colab\"/></a>"
      ]
    },
    {
      "cell_type": "markdown",
      "source": [
        "# 1. Situacion de Ingenieria Agricola\n",
        "\n",
        "Un Agricultor necesita saber cuantos kilogramos de semilla de maiz debe comprar para sembra r un  lote rectangular. Conoce la densidad de siembra recomendada (kg por hectarea) y las dimensiones del lote (largo y ancho en metros)."
      ],
      "metadata": {
        "id": "qO7fgRkYoAYn"
      }
    },
    {
      "cell_type": "code",
      "execution_count": null,
      "metadata": {
        "id": "8_A9UXclmFNu"
      },
      "outputs": [],
      "source": [
        "# Paso 1: Saludar al usuario y explicar qué hace el programa.\n",
        "print(\"Bienvenido al programa de cálculo de semillas de maiz.\")\n",
        "\n",
        "# Paso 2: Pedir al usuario que ingrese el largo del lote en metros (input sin convertir con float).\n",
        "largo = input(\"Por favor, ingrese el largo del lote en metros: \")\n",
        "\n",
        "# Paso 3: Pedir el ancho del lote en metros (input sin convertir con float).\n",
        "ancho = input(\"Por favor, ingrese el ancho del lote en metros: \")\n",
        "\n",
        "#Paso 4: Pedir la densidad de siembra en kg/hectárea (input sin convertir con float).\n",
        "densidad = input(\"Por favor, ingrese la densidad de siembra en kg/hectárea: \")\n",
        "\n",
        "#Paso 5: Convertir las entradas de texto a números decimales (float).\n",
        "largo = float(largo)\n",
        "ancho = float(ancho)\n",
        "densidad = float(densidad)\n",
        "\n",
        "#Paso 6: Calcular el área en metros cuadrados (largo * ancho).\n",
        "area = largo * ancho\n",
        "\n",
        "#Paso 7: Convertir el área a hectáreas (1 hectárea = 10,000 m²).\n",
        "area_hect = area / 10000\n",
        "\n",
        "#Paso 8: Calcular la cantidad de semillas en kilogramos (densidad * área en hectareas).\n",
        "semillas = densidad * area_hect\n",
        "\n",
        "#Paso 9: Mostrar el resultado final al usuario de forma clara (print).\n",
        "print(\"Para un lote de\", largo, \"metros de largo y\", ancho, \"metros de ancho, se necesitan\", semillas, \"kilogramos de semillas de maiz.\")\n"
      ]
    },
    {
      "cell_type": "markdown",
      "metadata": {
        "id": "cec66a69"
      },
      "source": [
        "Explicación del código:\n",
        "\n",
        "1.  `print(\"Bienvenido al programa de cálculo de semillas de maiz.\")`: Imprime un mensaje de bienvenida para el usuario al iniciar el programa.\n",
        "2.  `largo = input(\"Por favor, ingrese el largo del lote en metros: \")`: Pide al usuario que ingrese el largo del lote en metros y almacena la entrada (como texto) en la variable `largo`.\n",
        "3.  `ancho = input(\"Por favor, ingrese el ancho del lote en metros: \")`: Pide al usuario que ingrese el ancho del lote en metros y almacena la entrada (como texto) en la variable `ancho`.\n",
        "4.  `densidad = input(\"Por favor, ingrese la densidad de siembra en kg/hectárea: \")`: Pide al usuario que ingrese la densidad de siembra en kilogramos por hectárea y almacena la entrada (como texto) en la variable `densidad`.\n",
        "5.  `largo = float(largo)`: Convierte el valor almacenado en `largo` (que es texto) a un número decimal (flotante) para poder realizar cálculos matemáticos.\n",
        "6.  `ancho = float(ancho)`: Convierte el valor almacenado en `ancho` (que es texto) a un número decimal (flotante) para poder realizar cálculos matemáticos.\n",
        "7.  `densidad = float(densidad)`: Convierte el valor almacenado en `densidad` (que es texto) a un número decimal (flotante) para poder realizar cálculos matemáticos.\n",
        "8.  `area = largo * ancho`: Calcula el área del lote en metros cuadrados multiplicando el largo por el ancho y almacena el resultado en la variable `area`.\n",
        "9.  `area_hect = area / 10000`: Convierte el área de metros cuadrados a hectáreas dividiendo el área en metros cuadrados entre 10,000 (ya que 1 hectárea = 10,000 m²) y almacena el resultado en `area_hect`.\n",
        "10. `semillas = densidad * area_hect`: Calcula la cantidad total de semillas necesarias en kilogramos multiplicando la densidad de siembra por el área del lote en hectáreas y almacena el resultado en la variable `semillas`.\n",
        "11. `print(\"Para un lote de\", largo, \"metros de largo y\", ancho, \"metros de ancho, se necesitan\", semillas, \"kilogramos de semillas de maiz.\")`: Imprime el resultado final al usuario, mostrando el largo, el ancho y la cantidad calculada de semillas necesarias."
      ]
    },
    {
      "cell_type": "markdown",
      "source": [
        "# 2. Situación de Interés en Ingeniería Agroindustrial:\n",
        "\n",
        "En una planta de procesamiento de mango,\n",
        "se quiere calcular el rendimiento de un lote de fruta. Se necesita un programa simple que tome el\n",
        "peso inicial de los mangos antes de pelarlos y deshuesarlos, y el peso final de la pulpa obtenida, para\n",
        "expresar el rendimiento como un porcentaje."
      ],
      "metadata": {
        "id": "uFi3b07t1YtR"
      }
    },
    {
      "cell_type": "code",
      "source": [
        "#Paso 1: Explicar el propósito de la calculadora.\n",
        "print(\"Bienvenido a la calculadora de rendimiento de mangos.\")\n",
        "\n",
        "#Paso 2: Pedir el peso inicial del lote de mangos en kg (input sin convertir con float).\n",
        "pesoinicial = input(\"Por favor, ingrese el peso inicial del lote de mangos en kg: \")\n",
        "\n",
        "#Paso 3: Pedir el peso final de la pulpa obtenida en kg (input sin convertir con float).\n",
        "pesofinal = input(\"Por favor, ingrese el peso final de la pulpa obtenida en kg: \")\n",
        "\n",
        "#Paso 4: Convertir ambos pesos a números decimales (float).\n",
        "pesoinicial = float(pesoinicial)\n",
        "pesofinal = float(pesofinal)\n",
        "\n",
        "#Paso 5: Calcular el rendimiento como un porcentaje (pesofinal / pesoinicial) * 100\n",
        "rendimiento = (pesofinal / pesoinicial) * 100\n",
        "\n",
        "#Paso 6: Mostrar el resultado final al usuario de forma clara (print).\n",
        "print(\"El rendimiento del lote de mangos es de\", rendimiento, \"%.\")\n"
      ],
      "metadata": {
        "id": "IpzUWlep1sAw"
      },
      "execution_count": null,
      "outputs": []
    },
    {
      "cell_type": "markdown",
      "metadata": {
        "id": "a845bb7a"
      },
      "source": [
        "Explicación para calcular el rendimiento de mangos:\n",
        "\n",
        "1.  `print(\"Bienvenido a la calculadora de rendimiento de mangos.\")`: Imprime un mensaje de bienvenida al usuario al inicio del programa.\n",
        "2.  `pesoinicial = input(\"Por favor, ingrese el peso inicial del lote de mangos en kg: \")`: Pide al usuario que ingrese el peso inicial de los mangos en kilogramos y almacena la entrada (como texto) en la variable `pesoinicial`.\n",
        "3.  `pesofinal = input(\"Por favor, ingrese el peso final de la pulpa obtenida en kg: \")`: Pide al usuario que ingrese el peso final de la pulpa obtenida en kilogramos y almacena la entrada (como texto) en la variable `pesofinal`.\n",
        "4.  `pesoinicial = float(pesoinicial)`: Convierte el valor almacenado en `pesoinicial` (que es texto) a un número decimal (flotante) para poder realizar cálculos matemáticos.\n",
        "5.  `pesofinal = float(pesofinal)`: Convierte el valor almacenado en `pesofinal` (que es texto) a un número decimal (flotante) para poder realizar cálculos matemáticos.\n",
        "6.  `rendimiento = (pesofinal / pesoinicial) * 100`: Calcula el rendimiento como un porcentaje dividiendo el `pesofinal` entre el `pesoinicial` y multiplicando el resultado por 100. El resultado se almacena en la variable `rendimiento`.\n",
        "7.  `print(\"El rendimiento del lote de mangos es de\", rendimiento, \"%.\")`: Imprime el resultado final al usuario, mostrando el rendimiento calculado en porcentaje."
      ]
    },
    {
      "cell_type": "markdown",
      "source": [
        "# 3. Situación de Interés en Ingeniería Civil:\n",
        "\n",
        "Un ingeniero residente de obra necesita calcular\n",
        "rápidamente el volumen de concreto necesario para vaciar una losa de piso rectangular simple. Debe\n",
        "poder ingresar el largo, el ancho y el espesor de la losa para obtener el volumen en metros cúbicos."
      ],
      "metadata": {
        "id": "7R8nN1i84I4i"
      }
    },
    {
      "cell_type": "code",
      "source": [],
      "metadata": {
        "id": "KxsXUr0R4Dwp"
      },
      "execution_count": null,
      "outputs": []
    }
  ]
}